{
 "cells": [
  {
   "cell_type": "code",
   "execution_count": 2,
   "metadata": {},
   "outputs": [],
   "source": [
    "using DataFrames"
   ]
  },
  {
   "cell_type": "code",
   "execution_count": 3,
   "metadata": {},
   "outputs": [
    {
     "name": "stdout",
     "output_type": "stream",
     "text": [
      "search: \u001b[1mr\u001b[22m\u001b[1me\u001b[22m\u001b[1ma\u001b[22m\u001b[1md\u001b[22m\u001b[1mt\u001b[22m\u001b[1ma\u001b[22m\u001b[1mb\u001b[22m\u001b[1ml\u001b[22m\u001b[1me\u001b[22m\n",
      "\n"
     ]
    },
    {
     "data": {
      "text/markdown": [
       "Read data from a tabular-file format (CSV, TSV, ...)\n",
       "\n",
       "```julia\n",
       "readtable(filename, [keyword options])\n",
       "```\n",
       "\n",
       "### Arguments\n",
       "\n",
       "  * `filename::AbstractString` : the filename to be read\n",
       "\n",
       "### Keyword Arguments\n",
       "\n",
       "  * `header::Bool` – Use the information from the file's header line to determine column names. Defaults to `true`.\n",
       "  * `separator::Char` – Assume that fields are split by the `separator` character. If not specified, it will be guessed from the filename: `.csv` defaults to `','`, `.tsv` defaults to `'\t'`, `.wsv` defaults to `' '`.\n",
       "  * `quotemark::Vector{Char}` – Assume that fields contained inside of two `quotemark` characters are quoted, which disables processing of separators and linebreaks. Set to `Char[]` to disable this feature and slightly improve performance. Defaults to `['\"']`.\n",
       "  * `decimal::Char` – Assume that the decimal place in numbers is written using the `decimal` character. Defaults to `'.'`.\n",
       "  * `nastrings::Vector{String}` – Translate any of the strings into this vector into an `NA`. Defaults to `[\"\", \"NA\"]`.\n",
       "  * `truestrings::Vector{String}` – Translate any of the strings into this vector into a Boolean `true`. Defaults to `[\"T\", \"t\", \"TRUE\", \"true\"]`.\n",
       "  * `falsestrings::Vector{String}` – Translate any of the strings into this vector into a Boolean `false`. Defaults to `[\"F\", \"f\", \"FALSE\", \"false\"]`.\n",
       "  * `makefactors::Bool` – Convert string columns into `PooledDataVector`'s for use as factors. Defaults to `false`.\n",
       "  * `nrows::Int` – Read only `nrows` from the file. Defaults to `-1`, which indicates that the entire file should be read.\n",
       "  * `names::Vector{Symbol}` – Use the values in this array as the names for all columns instead of or in lieu of the names in the file's header. Defaults to `[]`, which indicates that the header should be used if present or that numeric names should be invented if there is no header.\n",
       "  * `eltypes::Vector` – Specify the types of all columns. Defaults to `[]`.\n",
       "  * `allowcomments::Bool` – Ignore all text inside comments. Defaults to `false`.\n",
       "  * `commentmark::Char` – Specify the character that starts comments. Defaults to `'#'`.\n",
       "  * `ignorepadding::Bool` – Ignore all whitespace on left and right sides of a field. Defaults to `true`.\n",
       "  * `skipstart::Int` – Specify the number of initial rows to skip. Defaults to `0`.\n",
       "  * `skiprows::Vector{Int}` – Specify the indices of lines in the input to ignore. Defaults to `[]`.\n",
       "  * `skipblanks::Bool` – Skip any blank lines in input. Defaults to `true`.\n",
       "  * `encoding::Symbol` – Specify the file's encoding as either `:utf8` or `:latin1`. Defaults to `:utf8`.\n",
       "  * `normalizenames::Bool` – Ensure that column names are valid Julia identifiers. For instance this renames a column named `\"a b\"` to `\"a_b\"` which can then be accessed with `:a_b` instead of `Symbol(\"a b\")`. Defaults to `true`.\n",
       "\n",
       "### Result\n",
       "\n",
       "  * `::DataFrame`\n",
       "\n",
       "### Examples\n",
       "\n",
       "```julia\n",
       "df = readtable(\"data.csv\")\n",
       "df = readtable(\"data.tsv\")\n",
       "df = readtable(\"data.wsv\")\n",
       "df = readtable(\"data.txt\", separator = '\t')\n",
       "df = readtable(\"data.txt\", header = false)\n",
       "```\n"
      ],
      "text/plain": [
       "Read data from a tabular-file format (CSV, TSV, ...)\n",
       "\n",
       "```julia\n",
       "readtable(filename, [keyword options])\n",
       "```\n",
       "\n",
       "### Arguments\n",
       "\n",
       "  * `filename::AbstractString` : the filename to be read\n",
       "\n",
       "### Keyword Arguments\n",
       "\n",
       "  * `header::Bool` – Use the information from the file's header line to determine column names. Defaults to `true`.\n",
       "  * `separator::Char` – Assume that fields are split by the `separator` character. If not specified, it will be guessed from the filename: `.csv` defaults to `','`, `.tsv` defaults to `'\t'`, `.wsv` defaults to `' '`.\n",
       "  * `quotemark::Vector{Char}` – Assume that fields contained inside of two `quotemark` characters are quoted, which disables processing of separators and linebreaks. Set to `Char[]` to disable this feature and slightly improve performance. Defaults to `['\"']`.\n",
       "  * `decimal::Char` – Assume that the decimal place in numbers is written using the `decimal` character. Defaults to `'.'`.\n",
       "  * `nastrings::Vector{String}` – Translate any of the strings into this vector into an `NA`. Defaults to `[\"\", \"NA\"]`.\n",
       "  * `truestrings::Vector{String}` – Translate any of the strings into this vector into a Boolean `true`. Defaults to `[\"T\", \"t\", \"TRUE\", \"true\"]`.\n",
       "  * `falsestrings::Vector{String}` – Translate any of the strings into this vector into a Boolean `false`. Defaults to `[\"F\", \"f\", \"FALSE\", \"false\"]`.\n",
       "  * `makefactors::Bool` – Convert string columns into `PooledDataVector`'s for use as factors. Defaults to `false`.\n",
       "  * `nrows::Int` – Read only `nrows` from the file. Defaults to `-1`, which indicates that the entire file should be read.\n",
       "  * `names::Vector{Symbol}` – Use the values in this array as the names for all columns instead of or in lieu of the names in the file's header. Defaults to `[]`, which indicates that the header should be used if present or that numeric names should be invented if there is no header.\n",
       "  * `eltypes::Vector` – Specify the types of all columns. Defaults to `[]`.\n",
       "  * `allowcomments::Bool` – Ignore all text inside comments. Defaults to `false`.\n",
       "  * `commentmark::Char` – Specify the character that starts comments. Defaults to `'#'`.\n",
       "  * `ignorepadding::Bool` – Ignore all whitespace on left and right sides of a field. Defaults to `true`.\n",
       "  * `skipstart::Int` – Specify the number of initial rows to skip. Defaults to `0`.\n",
       "  * `skiprows::Vector{Int}` – Specify the indices of lines in the input to ignore. Defaults to `[]`.\n",
       "  * `skipblanks::Bool` – Skip any blank lines in input. Defaults to `true`.\n",
       "  * `encoding::Symbol` – Specify the file's encoding as either `:utf8` or `:latin1`. Defaults to `:utf8`.\n",
       "  * `normalizenames::Bool` – Ensure that column names are valid Julia identifiers. For instance this renames a column named `\"a b\"` to `\"a_b\"` which can then be accessed with `:a_b` instead of `Symbol(\"a b\")`. Defaults to `true`.\n",
       "\n",
       "### Result\n",
       "\n",
       "  * `::DataFrame`\n",
       "\n",
       "### Examples\n",
       "\n",
       "```julia\n",
       "df = readtable(\"data.csv\")\n",
       "df = readtable(\"data.tsv\")\n",
       "df = readtable(\"data.wsv\")\n",
       "df = readtable(\"data.txt\", separator = '\t')\n",
       "df = readtable(\"data.txt\", header = false)\n",
       "```\n"
      ]
     },
     "execution_count": 3,
     "metadata": {},
     "output_type": "execute_result"
    }
   ],
   "source": [
    "?readtable"
   ]
  },
  {
   "cell_type": "code",
   "execution_count": 7,
   "metadata": {},
   "outputs": [
    {
     "ename": "LoadError",
     "evalue": "\u001b[91mSaw 3125291 rows, 4 columns and 14641565 fields\n * Line 1 has 8 columns\n\u001b[39m",
     "output_type": "error",
     "traceback": [
      "\u001b[91mSaw 3125291 rows, 4 columns and 14641565 fields\n * Line 1 has 8 columns\n\u001b[39m",
      "",
      "Stacktrace:",
      " [1] \u001b[1mfindcorruption\u001b[22m\u001b[22m\u001b[1m(\u001b[22m\u001b[22m::Int64, ::Int64, ::Int64, ::DataFrames.ParsedCSV\u001b[1m)\u001b[22m\u001b[22m at \u001b[1m/home/pedro/.julia/v0.6/DataFrames/src/dataframe/io.jl:712\u001b[22m\u001b[22m",
      " [2] \u001b[1mreadtable!\u001b[22m\u001b[22m\u001b[1m(\u001b[22m\u001b[22m::DataFrames.ParsedCSV, ::IOStream, ::Int64, ::DataFrames.ParseOptions{String,String}\u001b[1m)\u001b[22m\u001b[22m at \u001b[1m/home/pedro/.julia/v0.6/DataFrames/src/dataframe/io.jl:788\u001b[22m\u001b[22m",
      " [3] \u001b[1m#readtable#84\u001b[22m\u001b[22m\u001b[1m(\u001b[22m\u001b[22m::Bool, ::Char, ::Array{Char,1}, ::Char, ::Array{String,1}, ::Array{String,1}, ::Array{String,1}, ::Bool, ::Int64, ::Array{Symbol,1}, ::Array{Any,1}, ::Bool, ::Char, ::Bool, ::Int64, ::Array{Int64,1}, ::Bool, ::Symbol, ::Bool, ::Bool, ::DataFrames.#readtable, ::IOStream, ::Int64\u001b[1m)\u001b[22m\u001b[22m at \u001b[1m/home/pedro/.julia/v0.6/DataFrames/src/dataframe/io.jl:851\u001b[22m\u001b[22m",
      " [4] \u001b[1m(::DataFrames.#kw##readtable)\u001b[22m\u001b[22m\u001b[1m(\u001b[22m\u001b[22m::Array{Any,1}, ::DataFrames.#readtable, ::IOStream, ::Int64\u001b[1m)\u001b[22m\u001b[22m at \u001b[1m./<missing>:0\u001b[22m\u001b[22m",
      " [5] \u001b[1m#readtable#85\u001b[22m\u001b[22m\u001b[1m(\u001b[22m\u001b[22m::Bool, ::Char, ::Array{Char,1}, ::Char, ::Array{String,1}, ::Array{String,1}, ::Array{String,1}, ::Bool, ::Int64, ::Array{Symbol,1}, ::Array{Any,1}, ::Bool, ::Char, ::Bool, ::Int64, ::Array{Int64,1}, ::Bool, ::Symbol, ::Bool, ::Bool, ::DataFrames.#readtable, ::String\u001b[1m)\u001b[22m\u001b[22m at \u001b[1m/home/pedro/.julia/v0.6/DataFrames/src/dataframe/io.jl:945\u001b[22m\u001b[22m",
      " [6] \u001b[1m(::DataFrames.#kw##readtable)\u001b[22m\u001b[22m\u001b[1m(\u001b[22m\u001b[22m::Array{Any,1}, ::DataFrames.#readtable, ::String\u001b[1m)\u001b[22m\u001b[22m at \u001b[1m./<missing>:0\u001b[22m\u001b[22m",
      " [7] \u001b[1minclude_string\u001b[22m\u001b[22m\u001b[1m(\u001b[22m\u001b[22m::String, ::String\u001b[1m)\u001b[22m\u001b[22m at \u001b[1m./loading.jl:515\u001b[22m\u001b[22m"
     ]
    }
   ],
   "source": [
    "df=readtable(\"pluvs.csv\",commentmark='P')"
   ]
  },
  {
   "cell_type": "code",
   "execution_count": null,
   "metadata": {
    "collapsed": true
   },
   "outputs": [],
   "source": []
  }
 ],
 "metadata": {
  "kernelspec": {
   "display_name": "Julia 0.6.0",
   "language": "julia",
   "name": "julia-0.6"
  },
  "language_info": {
   "file_extension": ".jl",
   "mimetype": "application/julia",
   "name": "julia",
   "version": "0.6.0"
  }
 },
 "nbformat": 4,
 "nbformat_minor": 2
}
