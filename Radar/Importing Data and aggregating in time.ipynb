{
 "cells": [
  {
   "cell_type": "markdown",
   "metadata": {},
   "source": [
    "# Import Data and aggregatin in time\n"
   ]
  },
  {
   "cell_type": "code",
   "execution_count": 1,
   "metadata": {},
   "outputs": [
    {
     "name": "stdout",
     "output_type": "stream",
     "text": [
      "Populating the interactive namespace from numpy and matplotlib\n"
     ]
    },
    {
     "data": {
      "text/plain": [
       "'2.7.13 |Intel Corporation| (default, Apr 27 2017, 15:33:46) \\n[GCC 4.8.2 20140120 (Red Hat 4.8.2-15)]'"
      ]
     },
     "execution_count": 1,
     "metadata": {},
     "output_type": "execute_result"
    }
   ],
   "source": [
    "import sys\n",
    "import pandas as pd\n",
    "import numpy as np\n",
    "%pylab inline\n",
    "sys.version"
   ]
  },
  {
   "cell_type": "markdown",
   "metadata": {},
   "source": [
    "## Read data into dataframe"
   ]
  },
  {
   "cell_type": "code",
   "execution_count": 2,
   "metadata": {
    "collapsed": true
   },
   "outputs": [],
   "source": [
    "#df2=pd.read_csv('rain.txt.gz',delim_whitespace=True,parse_dates=True,index_col=[1,0],na_values=[\"-32767.0000000\"])\n",
    "#df2.sort_index(level=[0,1],inplace=True)\n",
    "#df2.tz_localize('utc',level=1)[:4]\n",
    "df=pd.read_pickle('pluvs.pkl.gz')"
   ]
  },
  {
   "cell_type": "markdown",
   "metadata": {},
   "source": [
    "df=pd.read_csv('out_xpol.txt.gz',delim_whitespace=True,parse_dates=True,index_col=[1,0],na_values=[\"-32767.0000000\"])\n",
    "az=0.15\n",
    "bz=0.39\n",
    "akdp=40.6 #Ryzhkov and Zrnic (1996)\n",
    "bkdp=0.866 #Ryzhkov and Zrnic (1996)\n",
    "dtradar_x=2.0/60.0\n",
    "df=df.assign(rz=(az/30)*((10**(df['Z_dbZ']/10))**bz)*dtradar_x)\n",
    "df=df.assign(rkdp=(akdp/30)*(abs(df['Kdp_o_km'])**bkdp)*np.sign(df['Kdp_o_km'])*dtradar_x)"
   ]
  },
  {
   "cell_type": "markdown",
   "metadata": {},
   "source": [
    "Filter rz for valid radar data (filtered by polatimetric variables)"
   ]
  },
  {
   "cell_type": "markdown",
   "metadata": {
    "collapsed": true
   },
   "source": [
    "df['rz'].where((df.Z_dbZ>=0) & (df.Z_dbZ<=50) & (df.Zdr_dbZr>=0) & (df.Zdr_dbZr<=3.5) & (df.Kdp_o_km>=0) & (df.Kdp_o_km<=5) \n",
    "               & (df.Rhv>0.85),inplace=True)\n",
    "df['rkdp'].where((df.Z_dbZ>=0) & (df.Z_dbZ<=50) & (df.Zdr_dbZr>=0) & (df.Zdr_dbZr<=3.5) & (df.Kdp_o_km>=0) & (df.Kdp_o_km<=5) \n",
    "               & (df.Rhv>0.85),inplace=True)"
   ]
  },
  {
   "cell_type": "code",
   "execution_count": 3,
   "metadata": {
    "collapsed": true
   },
   "outputs": [],
   "source": [
    "#df=(df.merge(right=df2,left_index=True,right_index=True,how='outer',indicator='rain_merge'))\n",
    "#df3=df.reset_index().merge(right=df2.reset_index(),how='inner',on=['estacao_codigo','datetime'],indicator=True)\n",
    "#df3.set_index(['estacao_codigo','datetime'],inplace=True)\n",
    "#pd.crosstab(df.rz>=-1,df.Rg_mm_10min>=-1)\n",
    "#del df2\n",
    "df3=pd.read_csv('out_spol.txt.gz',delim_whitespace=True,parse_dates=True,index_col=[1,0],na_values=[\"-32767.0000000\"])\n",
    "df=(df.merge(right=df3,left_index=True,right_index=True,how='outer',indicator='SPOL_merge'))\n",
    "del df3\n",
    "#df3[df3._merge=='both'].loc[5,:].plot()\n",
    "#df3[df3._merge=='right_only'].loc[5,:]\n",
    "dtradar_s=5.0/60.0\n",
    "df['Rspol']=df.Rspol*dtradar_s"
   ]
  },
  {
   "cell_type": "code",
   "execution_count": 4,
   "metadata": {
    "collapsed": true
   },
   "outputs": [],
   "source": [
    "df.to_pickle(\"dataframe.pickle.gz\",compression=\"gzip\")"
   ]
  },
  {
   "cell_type": "markdown",
   "metadata": {},
   "source": [
    "## Grouping data by station (using station code: 2nd columm of dataframe table)"
   ]
  },
  {
   "cell_type": "code",
   "execution_count": 5,
   "metadata": {
    "collapsed": true
   },
   "outputs": [],
   "source": [
    "# Group data by stations\n",
    "station_grouped=df.reset_index(level=0).groupby('estacao_codigo')"
   ]
  },
  {
   "cell_type": "markdown",
   "metadata": {},
   "source": [
    "## Let's resample the data only for R(Z-R) Rgauges and Raw gauges"
   ]
  },
  {
   "cell_type": "code",
   "execution_count": 6,
   "metadata": {},
   "outputs": [],
   "source": [
    "station_2min=station_grouped.resample('2T',label='left').agg({'Rg_mm_10': sum, 'Rspol': sum})\n",
    "\n",
    "station_10min=station_grouped.resample('10T',label='left').agg({'Rg_mm_10': sum, 'Rspol': sum})\n",
    "\n",
    "station_1h=station_grouped.resample('1H',label='left').agg({'Rg_mm_10': sum, 'Rspol': sum})\n",
    "\n",
    "station_1d=station_grouped.resample('1D',label='left').agg({'Rg_mm_10': sum, 'Rspol': sum})\n"
   ]
  },
  {
   "cell_type": "code",
   "execution_count": 7,
   "metadata": {
    "collapsed": true
   },
   "outputs": [],
   "source": [
    "station_1d.to_pickle('st1d.pkl.gz')"
   ]
  },
  {
   "cell_type": "code",
   "execution_count": 8,
   "metadata": {
    "collapsed": true
   },
   "outputs": [],
   "source": [
    "station_1h.to_pickle('st1h.pkl.gz')"
   ]
  },
  {
   "cell_type": "code",
   "execution_count": 9,
   "metadata": {
    "collapsed": true
   },
   "outputs": [],
   "source": [
    "station_10min.to_pickle('st10m.pkl.gz')"
   ]
  },
  {
   "cell_type": "code",
   "execution_count": 10,
   "metadata": {
    "collapsed": true
   },
   "outputs": [],
   "source": [
    "station_2min.to_pickle('st2m.pkl.gz')"
   ]
  }
 ],
 "metadata": {
  "kernelspec": {
   "display_name": "Python 2",
   "language": "python",
   "name": "python2"
  },
  "language_info": {
   "codemirror_mode": {
    "name": "ipython",
    "version": 2
   },
   "file_extension": ".py",
   "mimetype": "text/x-python",
   "name": "python",
   "nbconvert_exporter": "python",
   "pygments_lexer": "ipython2",
   "version": "2.7.13"
  }
 },
 "nbformat": 4,
 "nbformat_minor": 2
}
