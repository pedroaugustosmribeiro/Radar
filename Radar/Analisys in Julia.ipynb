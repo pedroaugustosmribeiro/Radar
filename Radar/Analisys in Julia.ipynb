{
 "cells": [
  {
   "cell_type": "code",
   "execution_count": 1,
   "metadata": {},
   "outputs": [
    {
     "name": "stderr",
     "output_type": "stream",
     "text": [
      "WARNING: requiring \"Dates\" in module \"Main\" did not define a corresponding module.\n",
      "\u001b[1m\u001b[36mINFO: \u001b[39m\u001b[22m\u001b[36mRecompiling stale cache file /home/pedro/.julia/lib/v0.6/Rmath.ji for module Rmath.\n",
      "\u001b[39m\u001b[1m\u001b[36mINFO: \u001b[39m\u001b[22m\u001b[36mRecompiling stale cache file /home/pedro/.julia/lib/v0.6/Distributions.ji for module Distributions.\n",
      "\u001b[39m\u001b[1m\u001b[36mINFO: \u001b[39m\u001b[22m\u001b[36mRecompiling stale cache file /home/pedro/.julia/lib/v0.6/KernelDensity.ji for module KernelDensity.\n",
      "\u001b[39m"
     ]
    },
    {
     "data": {
      "text/plain": [
       "Plots.GRBackend()"
      ]
     },
     "execution_count": 1,
     "metadata": {},
     "output_type": "execute_result"
    }
   ],
   "source": [
    "using Dates\n",
    "using DataFrames\n",
    "using StatPlots; gr()"
   ]
  },
  {
   "cell_type": "code",
   "execution_count": 12,
   "metadata": {},
   "outputs": [
    {
     "name": "stdout",
     "output_type": "stream",
     "text": [
      "search: \u001b[1mr\u001b[22m\u001b[1me\u001b[22m\u001b[1ma\u001b[22m\u001b[1md\u001b[22m\u001b[1md\u001b[22m\u001b[1ml\u001b[22m\u001b[1mm\u001b[22m \u001b[1mr\u001b[22m\u001b[1me\u001b[22m\u001b[1ma\u001b[22m\u001b[1md\u001b[22m\u001b[1md\u001b[22mir \u001b[1mr\u001b[22m\u001b[1me\u001b[22m\u001b[1ma\u001b[22m\u001b[1md\u001b[22m_r\u001b[1md\u001b[22ma \u001b[1mr\u001b[22m\u001b[1me\u001b[22m\u001b[1ma\u001b[22m\u001b[1md\u001b[22man\u001b[1md\u001b[22mwrite\n",
      "\n"
     ]
    },
    {
     "data": {
      "text/markdown": [
       "```\n",
       "readdlm(source, T::Type; options...)\n",
       "```\n",
       "\n",
       "The columns are assumed to be separated by one or more whitespaces. The end of line delimiter is taken as `\\n`.\n",
       "\n",
       "```\n",
       "readdlm(source, delim::Char, T::Type; options...)\n",
       "```\n",
       "\n",
       "The end of line delimiter is taken as `\\n`.\n",
       "\n",
       "```\n",
       "readdlm(source; options...)\n",
       "```\n",
       "\n",
       "The columns are assumed to be separated by one or more whitespaces. The end of line delimiter is taken as `\\n`. If all data is numeric, the result will be a numeric array. If some elements cannot be parsed as numbers, a heterogeneous array of numbers and strings is returned.\n",
       "\n",
       "```\n",
       "readdlm(source, delim::Char; options...)\n",
       "```\n",
       "\n",
       "The end of line delimiter is taken as `\\n`. If all data is numeric, the result will be a numeric array. If some elements cannot be parsed as numbers, a heterogeneous array of numbers and strings is returned.\n",
       "\n",
       "```\n",
       "readdlm(source, delim::Char, eol::Char; options...)\n",
       "```\n",
       "\n",
       "If all data is numeric, the result will be a numeric array. If some elements cannot be parsed as numbers, a heterogeneous array of numbers and strings is returned.\n",
       "\n",
       "```\n",
       "readdlm(source, delim::Char, T::Type, eol::Char; header=false, skipstart=0, skipblanks=true, use_mmap, quotes=true, dims, comments=true, comment_char='#')\n",
       "```\n",
       "\n",
       "Read a matrix from the source where each line (separated by `eol`) gives one row, with elements separated by the given delimiter. The source can be a text file, stream or byte array. Memory mapped files can be used by passing the byte array representation of the mapped segment as source.\n",
       "\n",
       "If `T` is a numeric type, the result is an array of that type, with any non-numeric elements as `NaN` for floating-point types, or zero. Other useful values of `T` include `String`, `AbstractString`, and `Any`.\n",
       "\n",
       "If `header` is `true`, the first row of data will be read as header and the tuple `(data_cells, header_cells)` is returned instead of only `data_cells`.\n",
       "\n",
       "Specifying `skipstart` will ignore the corresponding number of initial lines from the input.\n",
       "\n",
       "If `skipblanks` is `true`, blank lines in the input will be ignored.\n",
       "\n",
       "If `use_mmap` is `true`, the file specified by `source` is memory mapped for potential speedups. Default is `true` except on Windows. On Windows, you may want to specify `true` if the file is large, and is only read once and not written to.\n",
       "\n",
       "If `quotes` is `true`, columns enclosed within double-quote (\") characters are allowed to contain new lines and column delimiters. Double-quote characters within a quoted field must be escaped with another double-quote.  Specifying `dims` as a tuple of the expected rows and columns (including header, if any) may speed up reading of large files.  If `comments` is `true`, lines beginning with `comment_char` and text following `comment_char` in any line are ignored.\n"
      ],
      "text/plain": [
       "```\n",
       "readdlm(source, T::Type; options...)\n",
       "```\n",
       "\n",
       "The columns are assumed to be separated by one or more whitespaces. The end of line delimiter is taken as `\\n`.\n",
       "\n",
       "```\n",
       "readdlm(source, delim::Char, T::Type; options...)\n",
       "```\n",
       "\n",
       "The end of line delimiter is taken as `\\n`.\n",
       "\n",
       "```\n",
       "readdlm(source; options...)\n",
       "```\n",
       "\n",
       "The columns are assumed to be separated by one or more whitespaces. The end of line delimiter is taken as `\\n`. If all data is numeric, the result will be a numeric array. If some elements cannot be parsed as numbers, a heterogeneous array of numbers and strings is returned.\n",
       "\n",
       "```\n",
       "readdlm(source, delim::Char; options...)\n",
       "```\n",
       "\n",
       "The end of line delimiter is taken as `\\n`. If all data is numeric, the result will be a numeric array. If some elements cannot be parsed as numbers, a heterogeneous array of numbers and strings is returned.\n",
       "\n",
       "```\n",
       "readdlm(source, delim::Char, eol::Char; options...)\n",
       "```\n",
       "\n",
       "If all data is numeric, the result will be a numeric array. If some elements cannot be parsed as numbers, a heterogeneous array of numbers and strings is returned.\n",
       "\n",
       "```\n",
       "readdlm(source, delim::Char, T::Type, eol::Char; header=false, skipstart=0, skipblanks=true, use_mmap, quotes=true, dims, comments=true, comment_char='#')\n",
       "```\n",
       "\n",
       "Read a matrix from the source where each line (separated by `eol`) gives one row, with elements separated by the given delimiter. The source can be a text file, stream or byte array. Memory mapped files can be used by passing the byte array representation of the mapped segment as source.\n",
       "\n",
       "If `T` is a numeric type, the result is an array of that type, with any non-numeric elements as `NaN` for floating-point types, or zero. Other useful values of `T` include `String`, `AbstractString`, and `Any`.\n",
       "\n",
       "If `header` is `true`, the first row of data will be read as header and the tuple `(data_cells, header_cells)` is returned instead of only `data_cells`.\n",
       "\n",
       "Specifying `skipstart` will ignore the corresponding number of initial lines from the input.\n",
       "\n",
       "If `skipblanks` is `true`, blank lines in the input will be ignored.\n",
       "\n",
       "If `use_mmap` is `true`, the file specified by `source` is memory mapped for potential speedups. Default is `true` except on Windows. On Windows, you may want to specify `true` if the file is large, and is only read once and not written to.\n",
       "\n",
       "If `quotes` is `true`, columns enclosed within double-quote (\") characters are allowed to contain new lines and column delimiters. Double-quote characters within a quoted field must be escaped with another double-quote.  Specifying `dims` as a tuple of the expected rows and columns (including header, if any) may speed up reading of large files.  If `comments` is `true`, lines beginning with `comment_char` and text following `comment_char` in any line are ignored.\n"
      ]
     },
     "execution_count": 12,
     "metadata": {},
     "output_type": "execute_result"
    }
   ],
   "source": [
    "?readdlm"
   ]
  },
  {
   "cell_type": "code",
   "execution_count": 19,
   "metadata": {},
   "outputs": [
    {
     "data": {
      "text/html": [
       "<table class=\"data-frame\"><thead><tr><th></th><th>datetime</th><th>estacao_codigo</th><th>dado</th><th>Rg_mm_10min</th></tr></thead><tbody><tr><th>1</th><td>2016-11-14T10:00-03:00</td><td>273</td><td>17.6000004</td><td>0.0</td></tr><tr><th>2</th><td>2016-11-14T10:10-03:00</td><td>273</td><td>0.0</td><td>0.0</td></tr><tr><th>3</th><td>2016-11-14T10:20-03:00</td><td>273</td><td>0.0</td><td>0.0</td></tr><tr><th>4</th><td>2016-11-14T10:30-03:00</td><td>273</td><td>0.0</td><td>0.0</td></tr><tr><th>5</th><td>2016-11-14T10:40-03:00</td><td>273</td><td>0.0</td><td>0.0</td></tr><tr><th>6</th><td>2016-11-14T10:50-03:00</td><td>273</td><td>0.0</td><td>0.0</td></tr><tr><th>7</th><td>2016-11-14T11:00-03:00</td><td>273</td><td>0.0</td><td>0.0</td></tr><tr><th>8</th><td>2016-11-14T11:10-03:00</td><td>273</td><td>0.0</td><td>0.0</td></tr><tr><th>9</th><td>2016-11-14T11:20-03:00</td><td>273</td><td>0.0</td><td>0.0</td></tr><tr><th>10</th><td>2016-11-14T11:30-03:00</td><td>273</td><td>0.0</td><td>0.0</td></tr><tr><th>11</th><td>2016-11-14T11:40-03:00</td><td>273</td><td>0.0</td><td>0.0</td></tr><tr><th>12</th><td>2016-11-14T11:50-03:00</td><td>273</td><td>0.0</td><td>0.0</td></tr><tr><th>13</th><td>2016-11-14T12:00-03:00</td><td>273</td><td>0.0</td><td>0.0</td></tr><tr><th>14</th><td>2016-11-14T12:10-03:00</td><td>273</td><td>0.0</td><td>0.0</td></tr><tr><th>15</th><td>2016-11-14T12:20-03:00</td><td>273</td><td>0.0</td><td>0.0</td></tr><tr><th>16</th><td>2016-11-14T12:30-03:00</td><td>273</td><td>0.0</td><td>0.0</td></tr><tr><th>17</th><td>2016-11-14T12:40-03:00</td><td>273</td><td>0.0</td><td>0.0</td></tr><tr><th>18</th><td>2016-11-14T12:50-03:00</td><td>273</td><td>0.0</td><td>0.0</td></tr><tr><th>19</th><td>2016-11-14T13:00-03:00</td><td>273</td><td>0.0</td><td>0.0</td></tr><tr><th>20</th><td>2016-11-14T13:10-03:00</td><td>273</td><td>0.0</td><td>0.0</td></tr><tr><th>21</th><td>2016-11-14T13:20-03:00</td><td>273</td><td>0.0</td><td>0.0</td></tr><tr><th>22</th><td>2016-11-14T13:30-03:00</td><td>273</td><td>0.0</td><td>0.0</td></tr><tr><th>23</th><td>2016-11-14T13:40-03:00</td><td>273</td><td>0.0</td><td>0.0</td></tr><tr><th>24</th><td>2016-11-14T13:50-03:00</td><td>273</td><td>0.0</td><td>0.0</td></tr><tr><th>25</th><td>2016-11-14T14:00-03:00</td><td>273</td><td>0.0</td><td>0.0</td></tr><tr><th>26</th><td>2016-11-14T14:10-03:00</td><td>273</td><td>0.0</td><td>0.0</td></tr><tr><th>27</th><td>2016-11-14T14:20-03:00</td><td>273</td><td>0.0</td><td>0.0</td></tr><tr><th>28</th><td>2016-11-14T14:30-03:00</td><td>273</td><td>0.0</td><td>0.0</td></tr><tr><th>29</th><td>2016-11-14T14:40-03:00</td><td>273</td><td>0.0</td><td>0.0</td></tr><tr><th>30</th><td>2016-11-14T14:50-03:00</td><td>273</td><td>0.0</td><td>0.0</td></tr><tr><th>&vellip;</th><td>&vellip;</td><td>&vellip;</td><td>&vellip;</td><td>&vellip;</td></tr></tbody></table>"
      ],
      "text/plain": [
       "3094273×4 DataFrames.DataFrame\n",
       "│ Row     │ datetime                 │ estacao_codigo │ dado │ Rg_mm_10min │\n",
       "├─────────┼──────────────────────────┼────────────────┼──────┼─────────────┤\n",
       "│ 1       │ \"2016-11-14T10:00-03:00\" │ 273            │ 17.6 │ 0.0         │\n",
       "│ 2       │ \"2016-11-14T10:10-03:00\" │ 273            │ 0.0  │ 0.0         │\n",
       "│ 3       │ \"2016-11-14T10:20-03:00\" │ 273            │ 0.0  │ 0.0         │\n",
       "│ 4       │ \"2016-11-14T10:30-03:00\" │ 273            │ 0.0  │ 0.0         │\n",
       "│ 5       │ \"2016-11-14T10:40-03:00\" │ 273            │ 0.0  │ 0.0         │\n",
       "│ 6       │ \"2016-11-14T10:50-03:00\" │ 273            │ 0.0  │ 0.0         │\n",
       "│ 7       │ \"2016-11-14T11:00-03:00\" │ 273            │ 0.0  │ 0.0         │\n",
       "│ 8       │ \"2016-11-14T11:10-03:00\" │ 273            │ 0.0  │ 0.0         │\n",
       "│ 9       │ \"2016-11-14T11:20-03:00\" │ 273            │ 0.0  │ 0.0         │\n",
       "│ 10      │ \"2016-11-14T11:30-03:00\" │ 273            │ 0.0  │ 0.0         │\n",
       "│ 11      │ \"2016-11-14T11:40-03:00\" │ 273            │ 0.0  │ 0.0         │\n",
       "⋮\n",
       "│ 3094262 │ \"2016-12-22T01:50-03:00\" │ 282            │ 0.0  │ 0.0         │\n",
       "│ 3094263 │ \"2016-12-22T02:00-03:00\" │ 282            │ 0.0  │ 0.0         │\n",
       "│ 3094264 │ \"2016-12-22T02:10-03:00\" │ 282            │ 0.0  │ 0.0         │\n",
       "│ 3094265 │ \"2016-12-22T02:20-03:00\" │ 282            │ 0.0  │ 0.0         │\n",
       "│ 3094266 │ \"2016-12-22T02:30-03:00\" │ 282            │ 0.0  │ 0.0         │\n",
       "│ 3094267 │ \"2016-12-22T02:40-03:00\" │ 282            │ 0.0  │ 0.0         │\n",
       "│ 3094268 │ \"2016-12-22T02:50-03:00\" │ 282            │ 0.0  │ 0.0         │\n",
       "│ 3094269 │ \"2016-12-22T03:00-03:00\" │ 282            │ 0.0  │ 0.0         │\n",
       "│ 3094270 │ \"2016-12-22T03:10-03:00\" │ 282            │ 0.0  │ 0.0         │\n",
       "│ 3094271 │ \"2016-12-22T03:20-03:00\" │ 282            │ 0.0  │ 0.0         │\n",
       "│ 3094272 │ \"2016-12-22T03:30-03:00\" │ 282            │ 0.0  │ 0.0         │\n",
       "│ 3094273 │ \"2016-12-22T03:40-03:00\" │ 282            │ 0.0  │ 0.0         │"
      ]
     },
     "execution_count": 19,
     "metadata": {},
     "output_type": "execute_result"
    }
   ],
   "source": [
    "df=readtable(\"../Pluviometro/rain.txt.gz\", separator=' ')"
   ]
  },
  {
   "cell_type": "code",
   "execution_count": 20,
   "metadata": {},
   "outputs": [
    {
     "data": {
      "text/plain": [
       "3094273-element DataArrays.DataArray{String,1}:\n",
       " \"2016-11-14T10:00-03:00\"\n",
       " \"2016-11-14T10:10-03:00\"\n",
       " \"2016-11-14T10:20-03:00\"\n",
       " \"2016-11-14T10:30-03:00\"\n",
       " \"2016-11-14T10:40-03:00\"\n",
       " \"2016-11-14T10:50-03:00\"\n",
       " \"2016-11-14T11:00-03:00\"\n",
       " \"2016-11-14T11:10-03:00\"\n",
       " \"2016-11-14T11:20-03:00\"\n",
       " \"2016-11-14T11:30-03:00\"\n",
       " \"2016-11-14T11:40-03:00\"\n",
       " \"2016-11-14T11:50-03:00\"\n",
       " \"2016-11-14T12:00-03:00\"\n",
       " ⋮                       \n",
       " \"2016-12-22T01:50-03:00\"\n",
       " \"2016-12-22T02:00-03:00\"\n",
       " \"2016-12-22T02:10-03:00\"\n",
       " \"2016-12-22T02:20-03:00\"\n",
       " \"2016-12-22T02:30-03:00\"\n",
       " \"2016-12-22T02:40-03:00\"\n",
       " \"2016-12-22T02:50-03:00\"\n",
       " \"2016-12-22T03:00-03:00\"\n",
       " \"2016-12-22T03:10-03:00\"\n",
       " \"2016-12-22T03:20-03:00\"\n",
       " \"2016-12-22T03:30-03:00\"\n",
       " \"2016-12-22T03:40-03:00\""
      ]
     },
     "execution_count": 20,
     "metadata": {},
     "output_type": "execute_result"
    }
   ],
   "source": [
    "convert(df[:datetime])"
   ]
  },
  {
   "cell_type": "code",
   "execution_count": null,
   "metadata": {
    "collapsed": true
   },
   "outputs": [],
   "source": []
  }
 ],
 "metadata": {
  "kernelspec": {
   "display_name": "Julia 0.6.0",
   "language": "julia",
   "name": "julia-0.6"
  },
  "language_info": {
   "file_extension": ".jl",
   "mimetype": "application/julia",
   "name": "julia",
   "version": "0.6.0"
  }
 },
 "nbformat": 4,
 "nbformat_minor": 2
}
