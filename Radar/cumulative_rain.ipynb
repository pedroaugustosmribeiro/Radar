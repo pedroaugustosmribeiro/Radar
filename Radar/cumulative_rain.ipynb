{
 "cells": [
  {
   "cell_type": "markdown",
   "metadata": {},
   "source": [
    "# Accumulating rain from several files"
   ]
  },
  {
   "cell_type": "code",
   "execution_count": 1,
   "metadata": {},
   "outputs": [
    {
     "name": "stdout",
     "output_type": "stream",
     "text": [
      "\n",
      "## You are using the Python ARM Radar Toolkit (Py-ART), an open source\n",
      "## library for working with weather radar data. Py-ART is partly\n",
      "## supported by the U.S. Department of Energy as part of the Atmospheric\n",
      "## Radiation Measurement (ARM) Climate Research Facility, an Office of\n",
      "## Science user facility.\n",
      "##\n",
      "## If you use this software to prepare a publication, please cite:\n",
      "##\n",
      "##     JJ Helmus and SM Collis, JORS 2016, doi: 10.5334/jors.119\n",
      "\n"
     ]
    }
   ],
   "source": [
    "%matplotlib inline\n",
    "import matplotlib.pyplot as plt\n",
    "import pyart\n",
    "import pylab as pl\n",
    "import numpy as np\n",
    "import glob\n",
    "import os\n",
    "import re\n",
    "import wradlib as wrl\n",
    "from datetime import datetime\n",
    "#from wradlib.trafo import idecibel"
   ]
  },
  {
   "cell_type": "code",
   "execution_count": 2,
   "metadata": {
    "collapsed": true
   },
   "outputs": [],
   "source": [
    "filepath=\"MVOL/\"\n",
    "\n",
    "#filelist=(glob.glob(filepath+\"SAO*\"))"
   ]
  },
  {
   "cell_type": "markdown",
   "metadata": {},
   "source": [
    "print filelist"
   ]
  },
  {
   "cell_type": "code",
   "execution_count": 32,
   "metadata": {},
   "outputs": [],
   "source": [
    "#radar=[]\n",
    "fileradar=[]\n",
    "rain_timeseries=[]\n",
    "for filename in glob.iglob(filepath+\"SAO*\"):\n",
    "    #try:\n",
    "        r=pyart.io.auto_read.read(filename)\n",
    "        m=re.search('ppi', r.scan_type, flags=0)\n",
    "        if m is not None:\n",
    "            if ('reflectivity' and 'specific_differential_phase' \n",
    "                and 'cross_correlation_ratio') in r.fields.keys():\n",
    "                #radar.append(r)\n",
    "                gatefilter=pyart.correct.moment_based_gate_filter(r,min_refl=0.,min_rhv=0.8)\n",
    "                gatefilter.exclude_outside(field='differential_reflectivity',v1=-2.,v2=6.)\n",
    "                gatefilter.exclude_outside(field='velocity',v1=-50.,v2=50.)\n",
    "                rain=pyart.retrieve.est_rain_rate_zkdp(r,alphaz=0.15,betaz=0.39,alphakdp=19.63,betakdp=0.823,master_field='reflectivity')\n",
    "                rain_timeseries.append(rain['data'])\n",
    "                fileradar.append(datetime.strptime(os.path.splitext(os.path.basename(filename))[0][3:],'%y%m%d%H%M%S'))\n",
    "    #except:\n",
    "    #    print \"unreadable file\",filename\n",
    "    #    continue\n",
    "\n"
   ]
  },
  {
   "cell_type": "markdown",
   "metadata": {},
   "source": [
    "## Daqui para frente, em construção !!"
   ]
  },
  {
   "cell_type": "code",
   "execution_count": null,
   "metadata": {},
   "outputs": [],
   "source": [
    "dt_trg=[datetime.strptime('2016-06-05-00-00-00','%Y-%m-%d-%H-%M-%S')]\n",
    "print dt_trg\n",
    "aggr=wrl.util.aggregate_in_time(rain_timeseries, fileradar, dt_trg, taxis=0, func='sum')"
   ]
  },
  {
   "cell_type": "code",
   "execution_count": 33,
   "metadata": {},
   "outputs": [
    {
     "name": "stdout",
     "output_type": "stream",
     "text": [
      "[359, 360, 359, 360, 360, 359, 360, 360, 359, 360, 360, 360, 360, 360, 359, 360, 360, 360, 360, 360, 360, 360, 360, 359, 360, 360, 360, 360, 360, 360, 360, 360, 360, 360, 360, 360, 356, 360, 360, 360, 360, 360, 360, 360, 360, 360, 360, 360, 360, 359, 359, 360, 360, 360, 360, 359, 360, 360, 360, 359]\n"
     ]
    }
   ],
   "source": [
    "print [len(rain_timeseries[i].data) for i in range(60)]"
   ]
  },
  {
   "cell_type": "code",
   "execution_count": 46,
   "metadata": {},
   "outputs": [
    {
     "name": "stdout",
     "output_type": "stream",
     "text": [
      "801\n"
     ]
    }
   ],
   "source": []
  },
  {
   "cell_type": "code",
   "execution_count": null,
   "metadata": {
    "collapsed": true
   },
   "outputs": [],
   "source": []
  }
 ],
 "metadata": {
  "kernelspec": {
   "display_name": "Python 2",
   "language": "python",
   "name": "python2"
  },
  "language_info": {
   "codemirror_mode": {
    "name": "ipython",
    "version": 2
   },
   "file_extension": ".py",
   "mimetype": "text/x-python",
   "name": "python",
   "nbconvert_exporter": "python",
   "pygments_lexer": "ipython2",
   "version": "2.7.12"
  }
 },
 "nbformat": 4,
 "nbformat_minor": 2
}
